{
  "nbformat": 4,
  "nbformat_minor": 0,
  "metadata": {
    "kernelspec": {
      "display_name": "Python 3",
      "language": "python",
      "name": "python3"
    },
    "language_info": {
      "codemirror_mode": {
        "name": "ipython",
        "version": 3
      },
      "file_extension": ".py",
      "mimetype": "text/x-python",
      "name": "python",
      "nbconvert_exporter": "python",
      "pygments_lexer": "ipython3",
      "version": "3.7.4"
    },
    "colab": {
      "name": "TOTAL_SALES_LSTM_TRAIN_2020_MAR_PREDICT_2020_JUNE (1).ipynb",
      "provenance": []
    }
  },
  "cells": [
    {
      "cell_type": "code",
      "metadata": {
        "id": "kzPx8UETPsyD",
        "outputId": "438cdb97-bec8-4343-c126-dc8e738a41be"
      },
      "source": [
        "import numpy as np\n",
        "import matplotlib.pyplot as plt\n",
        "import pandas as pd\n",
        "from keras.models import Sequential\n",
        "from keras.layers import Dense\n",
        "from keras.layers import LSTM\n",
        "from keras.layers import Dropout\n",
        "import tensorflow as tf"
      ],
      "execution_count": null,
      "outputs": [
        {
          "output_type": "stream",
          "text": [
            "Using TensorFlow backend.\n"
          ],
          "name": "stderr"
        }
      ]
    },
    {
      "cell_type": "code",
      "metadata": {
        "id": "6EpaTvWsPsyG"
      },
      "source": [
        "filepath= r'C:\\Users\\jazeera\\Desktop\\Bavik\\Total_Sales&QTY_2010_2020_Mar.csv'"
      ],
      "execution_count": null,
      "outputs": []
    },
    {
      "cell_type": "code",
      "metadata": {
        "id": "d6ZiPe74PsyH"
      },
      "source": [
        "spdf=pd.read_csv(filepath)"
      ],
      "execution_count": null,
      "outputs": []
    },
    {
      "cell_type": "code",
      "metadata": {
        "id": "NI1SYEFtPsyH",
        "outputId": "fb608c4f-cf36-43db-8015-39b90cbc6f83"
      },
      "source": [
        "spdf.head(20)"
      ],
      "execution_count": null,
      "outputs": [
        {
          "output_type": "execute_result",
          "data": {
            "text/html": [
              "<div>\n",
              "<style scoped>\n",
              "    .dataframe tbody tr th:only-of-type {\n",
              "        vertical-align: middle;\n",
              "    }\n",
              "\n",
              "    .dataframe tbody tr th {\n",
              "        vertical-align: top;\n",
              "    }\n",
              "\n",
              "    .dataframe thead th {\n",
              "        text-align: right;\n",
              "    }\n",
              "</style>\n",
              "<table border=\"1\" class=\"dataframe\">\n",
              "  <thead>\n",
              "    <tr style=\"text-align: right;\">\n",
              "      <th></th>\n",
              "      <th>INVOICEDATE</th>\n",
              "      <th>Tot_Line_Amt_Date</th>\n",
              "      <th>Tot_Qty_Date</th>\n",
              "    </tr>\n",
              "  </thead>\n",
              "  <tbody>\n",
              "    <tr>\n",
              "      <td>0</td>\n",
              "      <td>2010-02-01</td>\n",
              "      <td>249114.84</td>\n",
              "      <td>30515.76879</td>\n",
              "    </tr>\n",
              "    <tr>\n",
              "      <td>1</td>\n",
              "      <td>2010-03-01</td>\n",
              "      <td>1036142.00</td>\n",
              "      <td>92861.38131</td>\n",
              "    </tr>\n",
              "    <tr>\n",
              "      <td>2</td>\n",
              "      <td>2010-04-01</td>\n",
              "      <td>538270.00</td>\n",
              "      <td>63444.33358</td>\n",
              "    </tr>\n",
              "    <tr>\n",
              "      <td>3</td>\n",
              "      <td>2010-05-01</td>\n",
              "      <td>1103700.00</td>\n",
              "      <td>116581.47650</td>\n",
              "    </tr>\n",
              "    <tr>\n",
              "      <td>4</td>\n",
              "      <td>2010-06-01</td>\n",
              "      <td>1498578.00</td>\n",
              "      <td>159937.85580</td>\n",
              "    </tr>\n",
              "    <tr>\n",
              "      <td>5</td>\n",
              "      <td>2010-07-01</td>\n",
              "      <td>1947906.00</td>\n",
              "      <td>223884.94900</td>\n",
              "    </tr>\n",
              "    <tr>\n",
              "      <td>6</td>\n",
              "      <td>2010-08-01</td>\n",
              "      <td>264792.00</td>\n",
              "      <td>31276.66946</td>\n",
              "    </tr>\n",
              "    <tr>\n",
              "      <td>7</td>\n",
              "      <td>2010-09-01</td>\n",
              "      <td>3424328.00</td>\n",
              "      <td>426495.03700</td>\n",
              "    </tr>\n",
              "    <tr>\n",
              "      <td>8</td>\n",
              "      <td>2010-10-01</td>\n",
              "      <td>2644748.00</td>\n",
              "      <td>330732.26070</td>\n",
              "    </tr>\n",
              "    <tr>\n",
              "      <td>9</td>\n",
              "      <td>2010-11-01</td>\n",
              "      <td>5907430.00</td>\n",
              "      <td>706422.73220</td>\n",
              "    </tr>\n",
              "    <tr>\n",
              "      <td>10</td>\n",
              "      <td>2010-12-01</td>\n",
              "      <td>1711196.00</td>\n",
              "      <td>203510.61400</td>\n",
              "    </tr>\n",
              "    <tr>\n",
              "      <td>11</td>\n",
              "      <td>2010-01-13</td>\n",
              "      <td>1309814.00</td>\n",
              "      <td>139401.57720</td>\n",
              "    </tr>\n",
              "    <tr>\n",
              "      <td>12</td>\n",
              "      <td>2010-01-14</td>\n",
              "      <td>1857080.00</td>\n",
              "      <td>208230.04060</td>\n",
              "    </tr>\n",
              "    <tr>\n",
              "      <td>13</td>\n",
              "      <td>2010-01-15</td>\n",
              "      <td>1166930.00</td>\n",
              "      <td>175110.11620</td>\n",
              "    </tr>\n",
              "    <tr>\n",
              "      <td>14</td>\n",
              "      <td>2010-01-16</td>\n",
              "      <td>2614810.00</td>\n",
              "      <td>317627.21120</td>\n",
              "    </tr>\n",
              "    <tr>\n",
              "      <td>15</td>\n",
              "      <td>2010-01-17</td>\n",
              "      <td>2736418.00</td>\n",
              "      <td>291195.33770</td>\n",
              "    </tr>\n",
              "    <tr>\n",
              "      <td>16</td>\n",
              "      <td>2010-01-18</td>\n",
              "      <td>3093456.00</td>\n",
              "      <td>352799.04500</td>\n",
              "    </tr>\n",
              "    <tr>\n",
              "      <td>17</td>\n",
              "      <td>2010-01-19</td>\n",
              "      <td>4227122.00</td>\n",
              "      <td>504935.95470</td>\n",
              "    </tr>\n",
              "    <tr>\n",
              "      <td>18</td>\n",
              "      <td>2010-01-20</td>\n",
              "      <td>2537491.20</td>\n",
              "      <td>330571.22370</td>\n",
              "    </tr>\n",
              "    <tr>\n",
              "      <td>19</td>\n",
              "      <td>2010-01-21</td>\n",
              "      <td>2008138.00</td>\n",
              "      <td>182617.19360</td>\n",
              "    </tr>\n",
              "  </tbody>\n",
              "</table>\n",
              "</div>"
            ],
            "text/plain": [
              "   INVOICEDATE  Tot_Line_Amt_Date  Tot_Qty_Date\n",
              "0   2010-02-01          249114.84   30515.76879\n",
              "1   2010-03-01         1036142.00   92861.38131\n",
              "2   2010-04-01          538270.00   63444.33358\n",
              "3   2010-05-01         1103700.00  116581.47650\n",
              "4   2010-06-01         1498578.00  159937.85580\n",
              "5   2010-07-01         1947906.00  223884.94900\n",
              "6   2010-08-01          264792.00   31276.66946\n",
              "7   2010-09-01         3424328.00  426495.03700\n",
              "8   2010-10-01         2644748.00  330732.26070\n",
              "9   2010-11-01         5907430.00  706422.73220\n",
              "10  2010-12-01         1711196.00  203510.61400\n",
              "11  2010-01-13         1309814.00  139401.57720\n",
              "12  2010-01-14         1857080.00  208230.04060\n",
              "13  2010-01-15         1166930.00  175110.11620\n",
              "14  2010-01-16         2614810.00  317627.21120\n",
              "15  2010-01-17         2736418.00  291195.33770\n",
              "16  2010-01-18         3093456.00  352799.04500\n",
              "17  2010-01-19         4227122.00  504935.95470\n",
              "18  2010-01-20         2537491.20  330571.22370\n",
              "19  2010-01-21         2008138.00  182617.19360"
            ]
          },
          "metadata": {
            "tags": []
          },
          "execution_count": 4
        }
      ]
    },
    {
      "cell_type": "code",
      "metadata": {
        "id": "83N1xdf8PsyH"
      },
      "source": [
        "# spdf.rename(columns = {'InvoiceDate':'INVOICEDATE','TotalQty':'Tot_Qty_Date','SalesAmount':'Tot_Line_Amt_Date'}, inplace = True) "
      ],
      "execution_count": null,
      "outputs": []
    },
    {
      "cell_type": "code",
      "metadata": {
        "id": "lFtk4zqgPsyI"
      },
      "source": [
        "spdf['INVOICEDATE'] = pd.to_datetime(spdf['INVOICEDATE'])\n",
        "spdf['Tot_Qty_Date'] = spdf['Tot_Qty_Date'].astype(float)\n",
        "spdf['Tot_Line_Amt_Date'] = spdf['Tot_Line_Amt_Date'].astype(float)"
      ],
      "execution_count": null,
      "outputs": []
    },
    {
      "cell_type": "code",
      "metadata": {
        "id": "FDzmRwXSPsyI"
      },
      "source": [
        "spdf['Tot_Line_Amt_Date'] = spdf['Tot_Line_Amt_Date'].astype(int)"
      ],
      "execution_count": null,
      "outputs": []
    },
    {
      "cell_type": "code",
      "metadata": {
        "id": "DDFPxdGZPsyJ"
      },
      "source": [
        "spdf=spdf.drop(['Tot_Qty_Date'], axis=1)"
      ],
      "execution_count": null,
      "outputs": []
    },
    {
      "cell_type": "code",
      "metadata": {
        "id": "sbqBCla3PsyJ",
        "outputId": "0b0dfef8-919e-4a48-e3bc-8de0262619d7"
      },
      "source": [
        "spdf.tail(82)"
      ],
      "execution_count": null,
      "outputs": [
        {
          "output_type": "execute_result",
          "data": {
            "text/html": [
              "<div>\n",
              "<style scoped>\n",
              "    .dataframe tbody tr th:only-of-type {\n",
              "        vertical-align: middle;\n",
              "    }\n",
              "\n",
              "    .dataframe tbody tr th {\n",
              "        vertical-align: top;\n",
              "    }\n",
              "\n",
              "    .dataframe thead th {\n",
              "        text-align: right;\n",
              "    }\n",
              "</style>\n",
              "<table border=\"1\" class=\"dataframe\">\n",
              "  <thead>\n",
              "    <tr style=\"text-align: right;\">\n",
              "      <th></th>\n",
              "      <th>INVOICEDATE</th>\n",
              "      <th>Tot_Line_Amt_Date</th>\n",
              "    </tr>\n",
              "  </thead>\n",
              "  <tbody>\n",
              "    <tr>\n",
              "      <td>3563</td>\n",
              "      <td>2019-12-28</td>\n",
              "      <td>3527546</td>\n",
              "    </tr>\n",
              "    <tr>\n",
              "      <td>3564</td>\n",
              "      <td>2019-12-29</td>\n",
              "      <td>2778187</td>\n",
              "    </tr>\n",
              "    <tr>\n",
              "      <td>3565</td>\n",
              "      <td>2019-12-30</td>\n",
              "      <td>2765363</td>\n",
              "    </tr>\n",
              "    <tr>\n",
              "      <td>3566</td>\n",
              "      <td>2019-12-31</td>\n",
              "      <td>2901926</td>\n",
              "    </tr>\n",
              "    <tr>\n",
              "      <td>3567</td>\n",
              "      <td>2020-01-03</td>\n",
              "      <td>2975774</td>\n",
              "    </tr>\n",
              "    <tr>\n",
              "      <td>...</td>\n",
              "      <td>...</td>\n",
              "      <td>...</td>\n",
              "    </tr>\n",
              "    <tr>\n",
              "      <td>3640</td>\n",
              "      <td>2020-03-16</td>\n",
              "      <td>3747189</td>\n",
              "    </tr>\n",
              "    <tr>\n",
              "      <td>3641</td>\n",
              "      <td>2020-03-17</td>\n",
              "      <td>3862347</td>\n",
              "    </tr>\n",
              "    <tr>\n",
              "      <td>3642</td>\n",
              "      <td>2020-03-18</td>\n",
              "      <td>3833777</td>\n",
              "    </tr>\n",
              "    <tr>\n",
              "      <td>3643</td>\n",
              "      <td>2020-03-19</td>\n",
              "      <td>3984948</td>\n",
              "    </tr>\n",
              "    <tr>\n",
              "      <td>3644</td>\n",
              "      <td>2020-03-20</td>\n",
              "      <td>7080</td>\n",
              "    </tr>\n",
              "  </tbody>\n",
              "</table>\n",
              "<p>82 rows × 2 columns</p>\n",
              "</div>"
            ],
            "text/plain": [
              "     INVOICEDATE  Tot_Line_Amt_Date\n",
              "3563  2019-12-28            3527546\n",
              "3564  2019-12-29            2778187\n",
              "3565  2019-12-30            2765363\n",
              "3566  2019-12-31            2901926\n",
              "3567  2020-01-03            2975774\n",
              "...          ...                ...\n",
              "3640  2020-03-16            3747189\n",
              "3641  2020-03-17            3862347\n",
              "3642  2020-03-18            3833777\n",
              "3643  2020-03-19            3984948\n",
              "3644  2020-03-20               7080\n",
              "\n",
              "[82 rows x 2 columns]"
            ]
          },
          "metadata": {
            "tags": []
          },
          "execution_count": 8
        }
      ]
    },
    {
      "cell_type": "code",
      "metadata": {
        "id": "VuP_TRQCPsyJ"
      },
      "source": [
        "Train = spdf"
      ],
      "execution_count": null,
      "outputs": []
    },
    {
      "cell_type": "code",
      "metadata": {
        "id": "heJWVA8EPsyJ"
      },
      "source": [
        "#selecting the target variables:\n",
        "train_df = Train.iloc[:, 1:2].values"
      ],
      "execution_count": null,
      "outputs": []
    },
    {
      "cell_type": "code",
      "metadata": {
        "id": "kyBi_VLdPsyK"
      },
      "source": [
        "# Apply normalization before feeding to LSTM using sklearn:\n",
        "from sklearn.preprocessing import MinMaxScaler\n",
        "\n",
        "scaler = MinMaxScaler()\n",
        "train_df = train_df.reshape(-1,1)\n",
        "\n",
        "scaler.fit(train_df)\n",
        "train_df = scaler.transform(train_df)"
      ],
      "execution_count": null,
      "outputs": []
    },
    {
      "cell_type": "code",
      "metadata": {
        "id": "gNrzUEogPsyK"
      },
      "source": [
        "# convert an array of values into a dataset matrix\n",
        "def create_dataset(dataset, look_back):\n",
        "    dataX, dataY = [], []\n",
        "    for i in range(len(dataset)-look_back):\n",
        "        a = dataset[i:(i + look_back), 0]\n",
        "        dataX.append(a)\n",
        "        dataY.append(dataset[i + look_back, 0])\n",
        "    return np.array(dataX), np.array(dataY)"
      ],
      "execution_count": null,
      "outputs": []
    },
    {
      "cell_type": "code",
      "metadata": {
        "id": "G3yXiSIUPsyK",
        "outputId": "c5a96cb9-a84f-42bd-a122-b86c4148ca86"
      },
      "source": [
        "# Create the data to train our model on:\n",
        "time_steps = 90\n",
        "X_train, y_train = create_dataset(train_df, time_steps)\n",
        "\n",
        "# reshape it [samples, time steps, features]\n",
        "X_train = np.reshape(X_train, (X_train.shape[0], 90, 1))\n",
        "\n",
        "print(X_train.shape)"
      ],
      "execution_count": null,
      "outputs": [
        {
          "output_type": "stream",
          "text": [
            "(3555, 90, 1)\n"
          ],
          "name": "stdout"
        }
      ]
    },
    {
      "cell_type": "code",
      "metadata": {
        "id": "R2us3Z37PsyL"
      },
      "source": [
        "y_train.shape"
      ],
      "execution_count": null,
      "outputs": []
    },
    {
      "cell_type": "code",
      "metadata": {
        "id": "27U9Au8zPsyL"
      },
      "source": [
        "# Build the model \n",
        "model = Sequential()\n",
        "\n",
        "model.add(LSTM(units = 100,return_sequences = True, input_shape = (X_train.shape[1], 1)))\n",
        "model.add(Dropout(0.2))\n",
        "\n",
        "model.add(LSTM(units = 100, return_sequences = True))\n",
        "model.add(Dropout(0.2))\n",
        "\n",
        "\n",
        "model.add(LSTM(units = 100, return_sequences = True))\n",
        "model.add(Dropout(0.2))\n",
        "\n",
        "model.add(LSTM(units = 100, return_sequences = False))\n",
        "model.add(Dropout(0.2))\n",
        "\n",
        "# Output layer\n",
        "model.add(Dense(units = 1))"
      ],
      "execution_count": null,
      "outputs": []
    },
    {
      "cell_type": "code",
      "metadata": {
        "id": "d2Zrbd5qPsyL"
      },
      "source": [
        "\n",
        "# Compiling the model\n",
        "model.compile(optimizer = 'adam', loss = 'mean_squared_error')\n",
        "\n",
        "# Fitting the model to the Training set\n",
        "history = model.fit(X_train, y_train, epochs = 20, batch_size = 10, validation_split=.30)"
      ],
      "execution_count": null,
      "outputs": []
    },
    {
      "cell_type": "code",
      "metadata": {
        "id": "haaotyOcPsyL"
      },
      "source": [
        "# # save the model to disk\n",
        "# import pickle\n",
        "# filename = 'finalized_LSTM_model_Forecasted.sav'\n",
        "# pickle.dump(model, open(filename, 'wb'))"
      ],
      "execution_count": null,
      "outputs": []
    },
    {
      "cell_type": "code",
      "metadata": {
        "id": "NIDnELpYPsyM"
      },
      "source": [
        "# load the model from disk\n",
        "import pickle\n",
        "filename = 'finalized_LSTM_model_Forecasted.sav'\n",
        "loaded_model = pickle.load(open(filename, 'rb'))\n",
        "#result = loaded_model.score(X_test, Y_test)\n",
        "#print(result)"
      ],
      "execution_count": null,
      "outputs": []
    },
    {
      "cell_type": "code",
      "metadata": {
        "id": "3t7JgCmIPsyM"
      },
      "source": [
        "#Forecast\n",
        "\n",
        "pred_list = []\n",
        "\n",
        "# reshape it [samples, time steps, features]\n",
        "Last_set=train_df[-90:]\n",
        "batch = np.reshape(Last_set, (1, 90, 1))\n",
        "\n",
        "for i in range(100):  \n",
        "    pred = loaded_model.predict(batch)\n",
        "    pred_list.append(pred[0,0]) \n",
        "    pred = pred.reshape(1,1,1) \n",
        "    batch = np.concatenate((batch[:,1:,:], pred), axis=1)\n",
        "    "
      ],
      "execution_count": null,
      "outputs": []
    },
    {
      "cell_type": "code",
      "metadata": {
        "id": "BJgXRAaXPsyM"
      },
      "source": [
        "pred_list_array=np.array(pred_list)"
      ],
      "execution_count": null,
      "outputs": []
    },
    {
      "cell_type": "code",
      "metadata": {
        "id": "Oq2vNhq4PsyM"
      },
      "source": [
        "pred_list_array=pred_list_array.reshape(-1, 1)"
      ],
      "execution_count": null,
      "outputs": []
    },
    {
      "cell_type": "code",
      "metadata": {
        "id": "xVG1XOq6PsyN"
      },
      "source": [
        "pred_list_Unscaled = scaler.inverse_transform(pred_list_array)"
      ],
      "execution_count": null,
      "outputs": []
    },
    {
      "cell_type": "code",
      "metadata": {
        "id": "BhqVh8BiPsyN",
        "outputId": "fcf01de6-7e0f-4083-be7d-76204e3a951d"
      },
      "source": [
        "pred_list_Unscaled"
      ],
      "execution_count": null,
      "outputs": [
        {
          "output_type": "execute_result",
          "data": {
            "text/plain": [
              "array([[4068262.8 ],\n",
              "       [3954619.  ],\n",
              "       [3797860.  ],\n",
              "       [3696288.2 ],\n",
              "       [3394514.5 ],\n",
              "       [3861837.2 ],\n",
              "       [ 156538.73],\n",
              "       [4169209.2 ],\n",
              "       [3884219.  ],\n",
              "       [3772330.8 ],\n",
              "       [3670458.2 ],\n",
              "       [3082860.  ],\n",
              "       [3390118.  ],\n",
              "       [ 339365.72],\n",
              "       [3859675.  ],\n",
              "       [3851296.2 ],\n",
              "       [3909750.5 ],\n",
              "       [3805315.5 ],\n",
              "       [3513668.2 ],\n",
              "       [3543316.8 ],\n",
              "       [ 248802.94],\n",
              "       [4115249.2 ],\n",
              "       [3867098.2 ],\n",
              "       [3731212.8 ],\n",
              "       [3503836.5 ],\n",
              "       [3082540.8 ],\n",
              "       [3482026.2 ],\n",
              "       [ 372128.3 ],\n",
              "       [3956772.8 ],\n",
              "       [3872655.2 ],\n",
              "       [3739310.5 ],\n",
              "       [3620894.5 ],\n",
              "       [3419577.  ],\n",
              "       [3573807.2 ],\n",
              "       [ 193759.66],\n",
              "       [3983335.  ],\n",
              "       [3727456.5 ],\n",
              "       [3587117.8 ],\n",
              "       [3417119.  ],\n",
              "       [2924866.5 ],\n",
              "       [3344770.5 ],\n",
              "       [ 341308.66],\n",
              "       [3821696.2 ],\n",
              "       [3802966.8 ],\n",
              "       [3751761.  ],\n",
              "       [3647487.8 ],\n",
              "       [3385329.5 ],\n",
              "       [3424795.5 ],\n",
              "       [ 254087.14],\n",
              "       [3979387.  ],\n",
              "       [3770914.2 ],\n",
              "       [3659396.5 ],\n",
              "       [3471503.2 ],\n",
              "       [3056747.8 ],\n",
              "       [3383627.2 ],\n",
              "       [ 333771.44],\n",
              "       [3916685.8 ],\n",
              "       [3833431.2 ],\n",
              "       [3724618.2 ],\n",
              "       [3593449.8 ],\n",
              "       [3343752.2 ],\n",
              "       [3470340.8 ],\n",
              "       [ 244308.84],\n",
              "       [3958231.  ],\n",
              "       [3750438.2 ],\n",
              "       [3632407.8 ],\n",
              "       [3466856.  ],\n",
              "       [3057629.5 ],\n",
              "       [3386448.5 ],\n",
              "       [ 306004.8 ],\n",
              "       [3881919.2 ],\n",
              "       [3792419.2 ],\n",
              "       [3706308.  ],\n",
              "       [3581173.2 ],\n",
              "       [3285196.8 ],\n",
              "       [3425078.8 ],\n",
              "       [ 260713.5 ],\n",
              "       [3935548.  ],\n",
              "       [3758541.  ],\n",
              "       [3661072.5 ],\n",
              "       [3500145.2 ],\n",
              "       [3111502.  ],\n",
              "       [3386584.  ],\n",
              "       [ 306027.7 ],\n",
              "       [3902541.8 ],\n",
              "       [3795715.2 ],\n",
              "       [3706062.  ],\n",
              "       [3568785.2 ],\n",
              "       [3268280.  ],\n",
              "       [3428675.5 ],\n",
              "       [ 268261.62],\n",
              "       [3935809.2 ],\n",
              "       [3761721.5 ],\n",
              "       [3660543.  ],\n",
              "       [3503255.5 ],\n",
              "       [3131610.2 ],\n",
              "       [3397859.5 ],\n",
              "       [ 294442.6 ],\n",
              "       [3901507.8 ],\n",
              "       [3780511.2 ]], dtype=float32)"
            ]
          },
          "metadata": {
            "tags": []
          },
          "execution_count": 19
        }
      ]
    },
    {
      "cell_type": "code",
      "metadata": {
        "id": "D7TlhModPsyN"
      },
      "source": [
        "df_Forecasted = pd.DataFrame(pred_list_Unscaled, columns=['Forecasted'])"
      ],
      "execution_count": null,
      "outputs": []
    },
    {
      "cell_type": "code",
      "metadata": {
        "id": "gPSu5TuBPsyN"
      },
      "source": [
        "T=pd.Series(pd.date_range('2020-03-21', freq='D', periods=100))"
      ],
      "execution_count": null,
      "outputs": []
    },
    {
      "cell_type": "code",
      "metadata": {
        "id": "qN_XqBEaPsyN"
      },
      "source": [
        "Future_dates = pd.DataFrame(T, columns=['INVOICEDATE'])"
      ],
      "execution_count": null,
      "outputs": []
    },
    {
      "cell_type": "code",
      "metadata": {
        "id": "21l5AXG4PsyO"
      },
      "source": [
        "finaldf = pd.concat([Future_dates, df_Forecasted], axis = 1)"
      ],
      "execution_count": null,
      "outputs": []
    },
    {
      "cell_type": "code",
      "metadata": {
        "id": "XVAwVYNEPsyO",
        "outputId": "a99dfe68-9e11-4bf6-d157-4a83fc43b1b4"
      },
      "source": [
        "finaldf.tail(20)"
      ],
      "execution_count": null,
      "outputs": [
        {
          "output_type": "execute_result",
          "data": {
            "text/html": [
              "<div>\n",
              "<style scoped>\n",
              "    .dataframe tbody tr th:only-of-type {\n",
              "        vertical-align: middle;\n",
              "    }\n",
              "\n",
              "    .dataframe tbody tr th {\n",
              "        vertical-align: top;\n",
              "    }\n",
              "\n",
              "    .dataframe thead th {\n",
              "        text-align: right;\n",
              "    }\n",
              "</style>\n",
              "<table border=\"1\" class=\"dataframe\">\n",
              "  <thead>\n",
              "    <tr style=\"text-align: right;\">\n",
              "      <th></th>\n",
              "      <th>INVOICEDATE</th>\n",
              "      <th>Forecasted</th>\n",
              "    </tr>\n",
              "  </thead>\n",
              "  <tbody>\n",
              "    <tr>\n",
              "      <td>80</td>\n",
              "      <td>2020-06-09</td>\n",
              "      <td>3.500145e+06</td>\n",
              "    </tr>\n",
              "    <tr>\n",
              "      <td>81</td>\n",
              "      <td>2020-06-10</td>\n",
              "      <td>3.111502e+06</td>\n",
              "    </tr>\n",
              "    <tr>\n",
              "      <td>82</td>\n",
              "      <td>2020-06-11</td>\n",
              "      <td>3.386584e+06</td>\n",
              "    </tr>\n",
              "    <tr>\n",
              "      <td>83</td>\n",
              "      <td>2020-06-12</td>\n",
              "      <td>3.060277e+05</td>\n",
              "    </tr>\n",
              "    <tr>\n",
              "      <td>84</td>\n",
              "      <td>2020-06-13</td>\n",
              "      <td>3.902542e+06</td>\n",
              "    </tr>\n",
              "    <tr>\n",
              "      <td>85</td>\n",
              "      <td>2020-06-14</td>\n",
              "      <td>3.795715e+06</td>\n",
              "    </tr>\n",
              "    <tr>\n",
              "      <td>86</td>\n",
              "      <td>2020-06-15</td>\n",
              "      <td>3.706062e+06</td>\n",
              "    </tr>\n",
              "    <tr>\n",
              "      <td>87</td>\n",
              "      <td>2020-06-16</td>\n",
              "      <td>3.568785e+06</td>\n",
              "    </tr>\n",
              "    <tr>\n",
              "      <td>88</td>\n",
              "      <td>2020-06-17</td>\n",
              "      <td>3.268280e+06</td>\n",
              "    </tr>\n",
              "    <tr>\n",
              "      <td>89</td>\n",
              "      <td>2020-06-18</td>\n",
              "      <td>3.428676e+06</td>\n",
              "    </tr>\n",
              "    <tr>\n",
              "      <td>90</td>\n",
              "      <td>2020-06-19</td>\n",
              "      <td>2.682616e+05</td>\n",
              "    </tr>\n",
              "    <tr>\n",
              "      <td>91</td>\n",
              "      <td>2020-06-20</td>\n",
              "      <td>3.935809e+06</td>\n",
              "    </tr>\n",
              "    <tr>\n",
              "      <td>92</td>\n",
              "      <td>2020-06-21</td>\n",
              "      <td>3.761722e+06</td>\n",
              "    </tr>\n",
              "    <tr>\n",
              "      <td>93</td>\n",
              "      <td>2020-06-22</td>\n",
              "      <td>3.660543e+06</td>\n",
              "    </tr>\n",
              "    <tr>\n",
              "      <td>94</td>\n",
              "      <td>2020-06-23</td>\n",
              "      <td>3.503256e+06</td>\n",
              "    </tr>\n",
              "    <tr>\n",
              "      <td>95</td>\n",
              "      <td>2020-06-24</td>\n",
              "      <td>3.131610e+06</td>\n",
              "    </tr>\n",
              "    <tr>\n",
              "      <td>96</td>\n",
              "      <td>2020-06-25</td>\n",
              "      <td>3.397860e+06</td>\n",
              "    </tr>\n",
              "    <tr>\n",
              "      <td>97</td>\n",
              "      <td>2020-06-26</td>\n",
              "      <td>2.944426e+05</td>\n",
              "    </tr>\n",
              "    <tr>\n",
              "      <td>98</td>\n",
              "      <td>2020-06-27</td>\n",
              "      <td>3.901508e+06</td>\n",
              "    </tr>\n",
              "    <tr>\n",
              "      <td>99</td>\n",
              "      <td>2020-06-28</td>\n",
              "      <td>3.780511e+06</td>\n",
              "    </tr>\n",
              "  </tbody>\n",
              "</table>\n",
              "</div>"
            ],
            "text/plain": [
              "   INVOICEDATE    Forecasted\n",
              "80  2020-06-09  3.500145e+06\n",
              "81  2020-06-10  3.111502e+06\n",
              "82  2020-06-11  3.386584e+06\n",
              "83  2020-06-12  3.060277e+05\n",
              "84  2020-06-13  3.902542e+06\n",
              "85  2020-06-14  3.795715e+06\n",
              "86  2020-06-15  3.706062e+06\n",
              "87  2020-06-16  3.568785e+06\n",
              "88  2020-06-17  3.268280e+06\n",
              "89  2020-06-18  3.428676e+06\n",
              "90  2020-06-19  2.682616e+05\n",
              "91  2020-06-20  3.935809e+06\n",
              "92  2020-06-21  3.761722e+06\n",
              "93  2020-06-22  3.660543e+06\n",
              "94  2020-06-23  3.503256e+06\n",
              "95  2020-06-24  3.131610e+06\n",
              "96  2020-06-25  3.397860e+06\n",
              "97  2020-06-26  2.944426e+05\n",
              "98  2020-06-27  3.901508e+06\n",
              "99  2020-06-28  3.780511e+06"
            ]
          },
          "metadata": {
            "tags": []
          },
          "execution_count": 25
        }
      ]
    },
    {
      "cell_type": "code",
      "metadata": {
        "scrolled": true,
        "id": "1ER8ZKOGPsyO",
        "outputId": "2a8ae731-c31c-42f0-e52a-a7499d9ebb71"
      },
      "source": [
        "plt.plot(finaldf['Forecasted'], color = 'red', label = 'Forecasted Sales Price')\n",
        "plt.title('Paints Invoice Price Prediction')\n",
        "plt.xlabel('Time')\n",
        "plt.ylabel('Paints Invoice Price')\n",
        "plt.legend()\n",
        "plt.show()"
      ],
      "execution_count": null,
      "outputs": [
        {
          "output_type": "display_data",
          "data": {
            "image/png": "[encoded data removed]",
            "text/plain": [
              "<Figure size 432x288 with 1 Axes>"
            ]
          },
          "metadata": {
            "tags": [],
            "needs_background": "light"
          }
        }
      ]
    }
  ]
}